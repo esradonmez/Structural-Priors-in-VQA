{
 "cells": [
  {
   "cell_type": "code",
   "execution_count": 2,
   "metadata": {},
   "outputs": [],
   "source": [
    "import h5py\n",
    "import numpy as np"
   ]
  },
  {
   "cell_type": "code",
   "execution_count": 3,
   "metadata": {},
   "outputs": [],
   "source": [
    "def survey(i):\n",
    "    print('image_id={} has {} objects'.format(i, ((objects['features'][i] != 0.0).sum(axis=1) != 0).sum()))\n",
    "\n",
    "# survey(0)\n",
    "# survey(1)\n",
    "# survey(2)"
   ]
  },
  {
   "cell_type": "markdown",
   "metadata": {},
   "source": [
    "# Objects_gqa_info.json\n",
    "{\"**2370799**\": {\"width\": 500, \"objectsNum\": 24, \"idx\": 4550, \"height\": 333, \"file\": 9}, \"2370798\": {\"width\": 333, \"objectsNum\": 13, \"idx\": 9008, \"height\": 500, \"file\": 1}, \"**2370793**\": {\"width\": 500, \"objectsNum\": 17, \"idx\": 8130, \"height\": 375, \"file\": 7}\n",
    "\n",
    "So the bolded numbers are **image ids** \n",
    "\n",
    "take this for example \n",
    "\n",
    "    {\"2370799\": {\"width\": 500, \"objectsNum\": 24, \"idx\": 4550, \"height\": 333, \"file\": 9}\n",
    "\n",
    "this says that that we have 24 objects in the image=2370799 stored in the index=4550 in the 9th object h5 file.\n",
    "\n",
    "Hence we can access this image's object features as follows "
   ]
  },
  {
   "cell_type": "code",
   "execution_count": 4,
   "metadata": {},
   "outputs": [
    {
     "name": "stdout",
     "output_type": "stream",
     "text": [
      "the feature are  [[0.0000000e+00 0.0000000e+00 6.0011845e+00 ... 6.8882656e+00\n",
      "  0.0000000e+00 0.0000000e+00]\n",
      " [4.9177136e-02 8.9633679e-01 1.6788861e+00 ... 1.2332850e+00\n",
      "  0.0000000e+00 0.0000000e+00]\n",
      " [0.0000000e+00 0.0000000e+00 8.6887451e-03 ... 0.0000000e+00\n",
      "  0.0000000e+00 1.6653609e+00]\n",
      " ...\n",
      " [4.1230787e-03 1.2189344e-03 1.2778348e-01 ... 9.6291928e-03\n",
      "  0.0000000e+00 0.0000000e+00]\n",
      " [0.0000000e+00 5.7812691e-02 1.0047505e+00 ... 8.4616970e-03\n",
      "  0.0000000e+00 4.1550022e-02]\n",
      " [0.0000000e+00 0.0000000e+00 2.1322658e-02 ... 0.0000000e+00\n",
      "  0.0000000e+00 3.7822976e+00]]\n",
      "The bounding boxes are [[153.57312  174.32625  209.50914  230.22238 ]\n",
      " [ 10.982235 196.58748  499.5      332.445   ]\n",
      " [119.395645  86.49263  154.43341  108.92558 ]\n",
      " [  0.       134.84871  287.2134   332.445   ]\n",
      " [ 65.90839  124.3244   230.60796  232.38704 ]\n",
      " [  0.         0.       282.7023   181.075   ]\n",
      " [275.50995    0.       499.5      284.26956 ]\n",
      " [ 47.61806  173.83682   97.93482  226.47842 ]\n",
      " [ 55.976    159.6109   191.25804  221.41505 ]\n",
      " [214.75433  143.13684  499.5      224.23512 ]\n",
      " [422.1638   177.18932  459.35168  328.90707 ]\n",
      " [242.59232  120.29591  274.8613   174.07054 ]\n",
      " [ 99.749504  95.83248  169.87611  183.5513  ]\n",
      " [150.92117    0.       413.56265   84.73199 ]\n",
      " [241.93962  145.39975  280.16736  192.28458 ]\n",
      " [ 96.2135    96.5324   150.30644  158.51161 ]\n",
      " [240.3932   109.79363  264.38593  144.12782 ]\n",
      " [149.12012    0.       383.07108  234.73851 ]\n",
      " [ 46.7367   166.10614  109.74146  224.4869  ]\n",
      " [156.61034  217.86053  439.73608  323.35822 ]\n",
      " [ 39.91903   91.664185 225.55528  206.30219 ]\n",
      " [291.2708     8.049575 499.5      135.29689 ]\n",
      " [170.62454  108.465935 294.6632   153.76707 ]\n",
      " [ 94.09281  107.80106  129.73914  151.98851 ]]\n"
     ]
    }
   ],
   "source": [
    "datapath = '../data/objects/gqa_objects_9.h5'\n",
    "objects = h5py.File(datapath, 'r')\n",
    "features = objects['features'][4550][:24]\n",
    "print('the feature are ', features)\n",
    "bbs = objects['bboxes'][4550][:24]\n",
    "print('The bounding boxes are', bbs)"
   ]
  },
  {
   "cell_type": "markdown",
   "metadata": {},
   "source": [
    "# relations to scene graph \n",
    "\n",
    "I think your confusion arose from the existence of unique “object-ids” that exists in the scene graphs. Now the questions is then how do we relate the scene graph object ids to the object features in the h5py file?\n",
    "\n",
    "Take this scene graph for image_id =  2329478\n",
    "\n",
    "     {'width': 500, \n",
    "     'objects': {\n",
    "        '4673973': {'name': 'pole', 'h': 14, 'relations': [], 'w': 499, 'attributes': [], 'y': 311, 'x': 1}, \n",
    "        '4673972': {'name': 'bird', 'h': 87, 'relations': [{'object': '4673976', 'name': 'to the left of'}, {'object': '4673973', 'name': 'on'}], 'w': 53, 'attributes': [], 'y': 253, 'x': 231}, \n",
    "        '4673984': {'name': 'building', 'h': 374, 'relations': [], 'w': 500, 'attributes': [], 'y': 0, 'x': 0}, \n",
    "        '4673976': {'name': 'window', 'h': 329, 'relations': [{'object': '4673972', 'name': 'to the right of'}], 'w': 115, 'attributes': [], 'y': 16, 'x': 288}}, 'height': 375}\n"
   ]
  },
  {
   "cell_type": "code",
   "execution_count": 7,
   "metadata": {},
   "outputs": [],
   "source": [
    "import json\n",
    "sG = json.load(open('../data/sceneGraphs/train_sceneGraphs.json', 'r'))\n",
    "objects_info = json.load(open('../data/objects/gqa_objects_info.json', 'r'))"
   ]
  },
  {
   "cell_type": "code",
   "execution_count": 8,
   "metadata": {},
   "outputs": [
    {
     "name": "stdout",
     "output_type": "stream",
     "text": [
      "Scene graph for image_id=2329478\n",
      " {'width': 500, 'objects': {'4673973': {'name': 'pole', 'h': 14, 'relations': [], 'w': 499, 'attributes': [], 'y': 311, 'x': 1}, '4673972': {'name': 'bird', 'h': 87, 'relations': [{'object': '4673976', 'name': 'to the left of'}, {'object': '4673973', 'name': 'on'}], 'w': 53, 'attributes': [], 'y': 253, 'x': 231}, '4673984': {'name': 'building', 'h': 374, 'relations': [], 'w': 500, 'attributes': [], 'y': 0, 'x': 0}, '4673976': {'name': 'window', 'h': 329, 'relations': [{'object': '4673972', 'name': 'to the right of'}], 'w': 115, 'attributes': [], 'y': 16, 'x': 288}}, 'height': 375}\n",
      "\n",
      "Object info for image_id=2329478\n",
      " {'width': 500, 'objectsNum': 14, 'idx': 319, 'height': 375, 'file': 5}\n",
      "\n",
      "this image has these objects\n",
      "['4673973', '4673972', '4673984', '4673976']\n",
      "taking the first one.. the object id=4673973 from the image_id=2329478\n",
      "\n",
      "looking at it from the ojbect info.json.. for the image_id=2329478\n"
     ]
    },
    {
     "data": {
      "text/plain": [
       "{'width': 500, 'objectsNum': 14, 'idx': 319, 'height': 375, 'file': 5}"
      ]
     },
     "execution_count": 8,
     "metadata": {},
     "output_type": "execute_result"
    }
   ],
   "source": [
    "image_id = 2329478\n",
    "print('Scene graph for image_id={}\\n {}\\n'.format(image_id, sG[str(image_id)]))\n",
    "print('Object info for image_id={}\\n {}\\n'.format(image_id, objects_info[str(image_id)]))\n",
    "\n",
    "print('this image has these objects')\n",
    "print(list(sG[str(image_id)]['objects'].keys()))\n",
    "object_id = list(sG[str(image_id)]['objects'].keys())[0]\n",
    "print('taking the first one.. the object id={} from the image_id={}\\n'.format(object_id, image_id))\n",
    "\n",
    "print('looking at it from the ojbect info.json.. for the image_id={}'.format(image_id))\n",
    "objects_info[str(image_id)]"
   ]
  },
  {
   "cell_type": "markdown",
   "metadata": {},
   "source": [
    "now the confusion is that we only have 4 objects in the scene graph - but we have 14 objects in the object_info.json.\n",
    "\n",
    "This is because we take detect image regions from Faster-RCNN and encode that into our feaetures h5py file. \n",
    " \n",
    "These DO NOT equal to the objects in the scene graph.\n",
    "\n",
    "\n",
    "We can see this from the fact that the bounding boxes are different\n",
    "\n",
    "hence, the object ids from the scene graph are not mapped to the object features h5py - the former is curated, and the latter are just automatically saved from Faster-RCNN.\n"
   ]
  },
  {
   "cell_type": "code",
   "execution_count": 9,
   "metadata": {},
   "outputs": [
    {
     "name": "stdout",
     "output_type": "stream",
     "text": [
      "The bounding boxes are [[  0.         0.       499.375    318.73648 ]\n",
      " [229.54271  258.07455  280.7074   335.98068 ]\n",
      " [  0.       118.08587  499.375    374.375   ]\n",
      " [451.82828   35.56199  499.375    302.3901  ]\n",
      " [413.39597    2.016573 441.09784  305.53387 ]\n",
      " [ 41.28254  302.68912  490.21878  357.61874 ]\n",
      " [  0.         0.       141.90135  372.6703  ]\n",
      " [235.53879  299.02878  262.34436  343.5903  ]\n",
      " [333.75916   13.192463 414.20456  305.25882 ]\n",
      " [110.23621  331.70242  366.84573  372.38654 ]\n",
      " [ 16.97216  310.1954   386.79456  329.725   ]\n",
      " [131.03316   38.11346  159.95183  310.7696  ]\n",
      " [134.67415   23.685493 264.26642  304.1112  ]\n",
      " [305.01465   10.377226 407.21924  285.8725  ]]\n"
     ]
    }
   ],
   "source": [
    "datapath = '../data/objects/gqa_objects_5.h5'\n",
    "objects = h5py.File(datapath, 'r')\n",
    "bbs = objects['bboxes'][319][:14]\n",
    "print('The bounding boxes are', bbs)"
   ]
  },
  {
   "cell_type": "code",
   "execution_count": 33,
   "metadata": {},
   "outputs": [],
   "source": [
    "def IoU(boxA, boxB):\n",
    "\t# determine the (x, y)-coordinates of the intersection rectangle\n",
    "\txA = max(boxA[0], boxB[0])\n",
    "\tyA = max(boxA[1], boxB[1])\n",
    "\txB = min(boxA[2], boxB[2])\n",
    "\tyB = min(boxA[3], boxB[3])\n",
    "\t# compute the area of intersection rectangle\n",
    "\tinterArea = max(0, xB - xA + 1) * max(0, yB - yA + 1)\n",
    "\t# compute the area of both the prediction and ground-truth\n",
    "\t# rectangles\n",
    "\tboxAArea = (boxA[2] - boxA[0] + 1) * (boxA[3] - boxA[1] + 1)\n",
    "\tboxBArea = (boxB[2] - boxB[0] + 1) * (boxB[3] - boxB[1] + 1)\n",
    "\t# compute the intersection over union by taking the intersection\n",
    "\t# area and dividing it by the sum of prediction + ground-truth\n",
    "\t# areas - the interesection area\n",
    "\tiou = interArea / float(boxAArea + boxBArea - interArea)\n",
    "\t# return the intersection over union value\n",
    "\treturn iou\n"
   ]
  },
  {
   "cell_type": "code",
   "execution_count": 34,
   "metadata": {},
   "outputs": [],
   "source": [
    "bbx = {key: (int(value['x']), int(value['y']), int(value['h']), int(value['w']))for key, value in sG[str(image_id)]['objects'].items()}"
   ]
  },
  {
   "cell_type": "code",
   "execution_count": 35,
   "metadata": {},
   "outputs": [
    {
     "name": "stdout",
     "output_type": "stream",
     "text": [
      "0.0007526266203100454\n",
      "0.0\n",
      "0.00690688207628473\n",
      "0.0\n",
      "0.0\n",
      "0.0\n",
      "0.015904259982554667\n",
      "0.0\n",
      "0.0\n",
      "0.0\n",
      "0.0\n",
      "0.0\n",
      "0.0\n",
      "0.0\n",
      "0.0\n",
      "0.0\n",
      "0.0\n",
      "0.0\n",
      "0.0\n",
      "0.0\n",
      "0.0\n",
      "0.0\n",
      "0.0\n",
      "0.0\n",
      "0.0\n",
      "0.0\n",
      "0.0\n",
      "0.0\n",
      "0.5259701206274886\n",
      "0.021908788042302854\n",
      "0.43829678505823716\n",
      "0.0\n",
      "0.0\n",
      "0.09602410736413489\n",
      "0.2842208348267271\n",
      "0.0067431230530767385\n",
      "0.06053515338298576\n",
      "0.05715621845175822\n",
      "0.03906803560039923\n",
      "0.043579122097450185\n",
      "0.19561955348175225\n",
      "0.09819660188516466\n",
      "0.02625194567333743\n",
      "0.0\n",
      "0.0\n",
      "0.0\n",
      "0.0\n",
      "0.0\n",
      "0.0\n",
      "0.0\n",
      "0.0\n",
      "0.0\n",
      "0.0\n",
      "0.0\n",
      "0.0\n",
      "0.08263158962430221\n"
     ]
    }
   ],
   "source": [
    "for key, boxA in bbx.items():\n",
    "    for boxB in objects['bboxes'][319][:14]:\n",
    "        print(IoU(boxA, boxB))"
   ]
  },
  {
   "cell_type": "code",
   "execution_count": 36,
   "metadata": {},
   "outputs": [
    {
     "data": {
      "text/plain": [
       "{'4673973': (1, 311, 500, 325),\n",
       " '4673972': (231, 253, 284, 340),\n",
       " '4673984': (0, 0, 500, 374),\n",
       " '4673976': (288, 16, 403, 345)}"
      ]
     },
     "execution_count": 36,
     "metadata": {},
     "output_type": "execute_result"
    }
   ],
   "source": [
    "bbx = {}\n",
    "for k ,v in sG[str(image_id)]['objects'].items():\n",
    "    bbx[k] = (int(v['x']), int(v['y']), int(v['w'])+ int(v['x']), int(v['h']) + int(v['y']))\n",
    "\n",
    "bbx"
   ]
  },
  {
   "cell_type": "code",
   "execution_count": null,
   "metadata": {},
   "outputs": [],
   "source": []
  }
 ],
 "metadata": {
  "interpreter": {
   "hash": "e7370f93d1d0cde622a1f8e1c04877d8463912d04d973331ad4851f04de6915a"
  },
  "kernelspec": {
   "display_name": "Python 3.9.5 64-bit",
   "name": "python3"
  },
  "language_info": {
   "codemirror_mode": {
    "name": "ipython",
    "version": 3
   },
   "file_extension": ".py",
   "mimetype": "text/x-python",
   "name": "python",
   "nbconvert_exporter": "python",
   "pygments_lexer": "ipython3",
   "version": "3.8.10"
  },
  "orig_nbformat": 4
 },
 "nbformat": 4,
 "nbformat_minor": 2
}